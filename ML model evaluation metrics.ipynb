{
 "cells": [
  {
   "cell_type": "markdown",
   "id": "32604f1e",
   "metadata": {},
   "source": [
    "## ML model evaluation metrics (Accuracy, Precision, Recall, Specificity, F1 Score and Negative Predictive Value) for a fintech case"
   ]
  },
  {
   "cell_type": "markdown",
   "id": "c31087f4",
   "metadata": {},
   "source": [
    "What are precision and recall?\n",
    "\n",
    "What error metric would you use to evaluate how good a binary classifier is?\n",
    "\n",
    "How do you find the accuracy of a confusion matrix?\n",
    "\n",
    "What is F1 score in confusion matrix?\n",
    "\n",
    "What does 1% accuracy mean?\n",
    "\n",
    "What is the difference between precision and accuracy?\n",
    "\n",
    "In what cases you should not use accuracy as the main metric?\n",
    "\n",
    "What is Specificity?\n",
    "\n",
    "When should you use precision, and recall?\n",
    "\n",
    "What is a Negative predictive value?"
   ]
  },
  {
   "cell_type": "code",
   "execution_count": null,
   "id": "4d48bb53",
   "metadata": {},
   "outputs": [],
   "source": []
  },
  {
   "cell_type": "markdown",
   "id": "5f225e6a",
   "metadata": {},
   "source": [
    "### Confusion matrix"
   ]
  },
  {
   "cell_type": "markdown",
   "id": "27ec1e59",
   "metadata": {},
   "source": [
    "The confusion matrix helps us visualize whether the model is “mistaken” in distinguishing between two classes. As you can see in the below picture, it is a 2x2 matrix. The row names are the actuals from the test set, and the column names are the ones predicted by the model.\n",
    "\n",
    "Based on them, you can calculate metrics that provide additional information about your model:\n",
    "\n",
    "Accuracy;\n",
    "\n",
    "Precision;\n",
    "\n",
    "Recall (Sensitivity);\n",
    "\n",
    "F1-score;\n",
    "\n",
    "Specificity;\n",
    "\n",
    "Negative Predictive Value."
   ]
  },
  {
   "cell_type": "markdown",
   "id": "0ccba647",
   "metadata": {},
   "source": [
    "### Accuracy "
   ]
  },
  {
   "cell_type": "markdown",
   "id": "82dc8bbc",
   "metadata": {},
   "source": [
    "accuracy = number of corrected predictions / total number of predictions\n",
    "\n",
    "accuracy = True Negative + True Position / True Negative + True Positive + False Negative + False Negative"
   ]
  },
  {
   "cell_type": "code",
   "execution_count": null,
   "id": "43eda591",
   "metadata": {},
   "outputs": [],
   "source": [
    "from sklearn.metrics import accuracy_score\n",
    "\n",
    "score = accuracy_score(y_test, y_pred)"
   ]
  },
  {
   "cell_type": "markdown",
   "id": "fb9b6a1a",
   "metadata": {},
   "source": [
    "The accuracy is misleading in case of imbalanced data."
   ]
  },
  {
   "cell_type": "code",
   "execution_count": null,
   "id": "f9bd583c",
   "metadata": {},
   "outputs": [],
   "source": []
  },
  {
   "cell_type": "markdown",
   "id": "4af6e659",
   "metadata": {},
   "source": [
    "### Precision"
   ]
  },
  {
   "cell_type": "markdown",
   "id": "f558d30d",
   "metadata": {},
   "source": [
    "Precision = TP / TP + FP"
   ]
  },
  {
   "cell_type": "markdown",
   "id": "78d2305b",
   "metadata": {},
   "source": [
    "Precision measuures the accuracy of the model for the predicted positive class. \n",
    "\n",
    "It reflects how reliable a model makes predictions for the positive class."
   ]
  },
  {
   "cell_type": "code",
   "execution_count": null,
   "id": "0a0b3d0f",
   "metadata": {},
   "outputs": [],
   "source": [
    "from sklearn.metrics import precision_score\n",
    "\n",
    "score = precision_score(y_test,y_pred)"
   ]
  },
  {
   "cell_type": "code",
   "execution_count": null,
   "id": "bc851ebd",
   "metadata": {},
   "outputs": [],
   "source": []
  },
  {
   "cell_type": "markdown",
   "id": "3bfbf4d2",
   "metadata": {},
   "source": [
    "### Recall (Sensitivity)"
   ]
  },
  {
   "cell_type": "markdown",
   "id": "321c587e",
   "metadata": {},
   "source": [
    "Recall (Sensitivity) = TP / TP + FN"
   ]
  },
  {
   "cell_type": "markdown",
   "id": "e41544ce",
   "metadata": {},
   "source": [
    "Recall only cares about how actual positive samples are classified.\n",
    "\n",
    "This metrics does not depend on how negative samples are classified, unlike precision."
   ]
  },
  {
   "cell_type": "code",
   "execution_count": null,
   "id": "9d29a53a",
   "metadata": {},
   "outputs": [],
   "source": [
    "from sklearn.metrics import recall_score\n",
    "\n",
    "score = recall_score(y_test,y_pred)"
   ]
  },
  {
   "cell_type": "code",
   "execution_count": null,
   "id": "2b7614f5",
   "metadata": {},
   "outputs": [],
   "source": []
  },
  {
   "cell_type": "markdown",
   "id": "db54368e",
   "metadata": {},
   "source": [
    "## When to use Precision and Recall?"
   ]
  },
  {
   "cell_type": "markdown",
   "id": "1f9fd561",
   "metadata": {},
   "source": [
    "If you goal is to find all positive samples, and you do not care if negative samples are classified positive, use Recall."
   ]
  },
  {
   "cell_type": "markdown",
   "id": "c59a6d60",
   "metadata": {},
   "source": [
    "If the negative class is a concern, then use precision."
   ]
  },
  {
   "cell_type": "code",
   "execution_count": null,
   "id": "89d78c5f",
   "metadata": {},
   "outputs": [],
   "source": []
  },
  {
   "cell_type": "markdown",
   "id": "8900c995",
   "metadata": {},
   "source": [
    "## For Fintech Case\n",
    "\n",
    "Erroneously predicting customers who will not pay the loan back will severely damage our fintech company. \n",
    "\n",
    "Yes, we can focus on approving as many candidates as possible, which will increase our revenues, however, one customer that fails to pay the loan back is much more expensive for us than ten customers paying the loan. Therefore, we optimize our ML model based on recall, since we want to find all positive samples."
   ]
  },
  {
   "cell_type": "raw",
   "id": "5c19dda6",
   "metadata": {},
   "source": []
  },
  {
   "cell_type": "code",
   "execution_count": null,
   "id": "35176e21",
   "metadata": {},
   "outputs": [],
   "source": []
  },
  {
   "cell_type": "markdown",
   "id": "b9a3cdaa",
   "metadata": {},
   "source": [
    "### F1-score"
   ]
  },
  {
   "cell_type": "markdown",
   "id": "ced67b39",
   "metadata": {},
   "source": [
    "F1 - score = 2 * Precision  * Recall / Precision + Recall"
   ]
  },
  {
   "cell_type": "code",
   "execution_count": null,
   "id": "f5a5ee1b",
   "metadata": {},
   "outputs": [],
   "source": [
    "from sklearn.metrics import f1_score\n",
    "\n",
    "score = f1_score(y_test,y_pred)"
   ]
  },
  {
   "cell_type": "code",
   "execution_count": null,
   "id": "cab46251",
   "metadata": {},
   "outputs": [],
   "source": []
  },
  {
   "cell_type": "markdown",
   "id": "2f2b7ef2",
   "metadata": {},
   "source": [
    "### Specificity"
   ]
  },
  {
   "cell_type": "markdown",
   "id": "cc93db28",
   "metadata": {},
   "source": [
    "specificity = TN / TN + FP"
   ]
  },
  {
   "cell_type": "markdown",
   "id": "be8270aa",
   "metadata": {},
   "source": [
    "Specificity focuses on actual negative class, similarly to recall focus on actual positive class.\n",
    "\n",
    " If the negative class is more important for you, then you should probably relook at what problem your ML model solves, and swap positive and negative classes, if needed. \n",
    "    \n",
    "    For example, in the fintech case, you may label “customer is likely to pay the loan back” as a positive class rather than “customer that default or charge off”. Given it is an imbalanced dataset where most of the customers are paying the loan back, you will naturally get high recall and precision, and extremely low specificity."
   ]
  },
  {
   "cell_type": "code",
   "execution_count": null,
   "id": "625d5fba",
   "metadata": {},
   "outputs": [],
   "source": []
  },
  {
   "cell_type": "code",
   "execution_count": null,
   "id": "ba988e70",
   "metadata": {},
   "outputs": [],
   "source": []
  },
  {
   "cell_type": "markdown",
   "id": "a8568152",
   "metadata": {},
   "source": [
    "### Negative Predictive Value"
   ]
  },
  {
   "cell_type": "markdown",
   "id": "4560cc9c",
   "metadata": {},
   "source": [
    "Negative Predictive Value = TN / TN + FN"
   ]
  },
  {
   "cell_type": "code",
   "execution_count": null,
   "id": "17e3f93e",
   "metadata": {},
   "outputs": [],
   "source": [
    "from sklearn.metrics import confusion_matrix\n",
    "\n",
    "tn,fp,fn,tp = confusion_matrix(y_test,y_pred)\n",
    "\n",
    "NPV = tn / tn + fn"
   ]
  },
  {
   "cell_type": "code",
   "execution_count": null,
   "id": "a8cbaf6d",
   "metadata": {},
   "outputs": [],
   "source": []
  },
  {
   "attachments": {
    "Screenshot%202022-09-18%20at%209.26.33%20AM.png": {
     "image/png": "[encoded data removed]"
    }
   },
   "cell_type": "markdown",
   "id": "56528754",
   "metadata": {},
   "source": [
    "![Screenshot%202022-09-18%20at%209.26.33%20AM.png](attachment:Screenshot%202022-09-18%20at%209.26.33%20AM.png)"
   ]
  },
  {
   "cell_type": "code",
   "execution_count": null,
   "id": "3dd46c48",
   "metadata": {},
   "outputs": [],
   "source": []
  },
  {
   "cell_type": "code",
   "execution_count": null,
   "id": "7aa129e4",
   "metadata": {},
   "outputs": [],
   "source": []
  }
 ],
 "metadata": {
  "kernelspec": {
   "display_name": "Python 3 (ipykernel)",
   "language": "python",
   "name": "python3"
  },
  "language_info": {
   "codemirror_mode": {
    "name": "ipython",
    "version": 3
   },
   "file_extension": ".py",
   "mimetype": "text/x-python",
   "name": "python",
   "nbconvert_exporter": "python",
   "pygments_lexer": "ipython3",
   "version": "3.9.7"
  }
 },
 "nbformat": 4,
 "nbformat_minor": 5
}
